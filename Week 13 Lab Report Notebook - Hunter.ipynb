{
 "cells": [
  {
   "cell_type": "code",
   "execution_count": 1,
   "id": "73d202d1",
   "metadata": {},
   "outputs": [],
   "source": [
    "import math\n",
    "import numpy as np\n",
    "import pandas as pd\n",
    "%matplotlib inline\n",
    "import matplotlib.pyplot as plt\n",
    "import io\n",
    "import requests\n",
    "import matplotlib.dates as mdate"
   ]
  },
  {
   "cell_type": "code",
   "execution_count": 58,
   "id": "229da8f4",
   "metadata": {},
   "outputs": [],
   "source": [
    "Hunter = pd.read_csv('HunterWalkingData.csv')\n",
    "Hayden = pd.read_csv('HaydenWalkingData.csv')"
   ]
  },
  {
   "cell_type": "code",
   "execution_count": 59,
   "id": "79e6bf86",
   "metadata": {
    "scrolled": true
   },
   "outputs": [
    {
     "data": {
      "text/html": [
       "<div>\n",
       "<style scoped>\n",
       "    .dataframe tbody tr th:only-of-type {\n",
       "        vertical-align: middle;\n",
       "    }\n",
       "\n",
       "    .dataframe tbody tr th {\n",
       "        vertical-align: top;\n",
       "    }\n",
       "\n",
       "    .dataframe thead th {\n",
       "        text-align: right;\n",
       "    }\n",
       "</style>\n",
       "<table border=\"1\" class=\"dataframe\">\n",
       "  <thead>\n",
       "    <tr style=\"text-align: right;\">\n",
       "      <th></th>\n",
       "      <th>Epoch time</th>\n",
       "      <th>Latitude</th>\n",
       "      <th>Longitude</th>\n",
       "      <th>Air Quality PM 2.5 (ug/m3)</th>\n",
       "      <th>Radiation (cps)</th>\n",
       "    </tr>\n",
       "  </thead>\n",
       "  <tbody>\n",
       "    <tr>\n",
       "      <th>0</th>\n",
       "      <td>1.635386e+09</td>\n",
       "      <td>0.000000</td>\n",
       "      <td>0.000000</td>\n",
       "      <td>2.0</td>\n",
       "      <td>37.6</td>\n",
       "    </tr>\n",
       "    <tr>\n",
       "      <th>1</th>\n",
       "      <td>1.635386e+09</td>\n",
       "      <td>37.875835</td>\n",
       "      <td>-122.258825</td>\n",
       "      <td>3.0</td>\n",
       "      <td>33.4</td>\n",
       "    </tr>\n",
       "    <tr>\n",
       "      <th>2</th>\n",
       "      <td>1.635386e+09</td>\n",
       "      <td>37.875832</td>\n",
       "      <td>-122.258825</td>\n",
       "      <td>3.0</td>\n",
       "      <td>29.2</td>\n",
       "    </tr>\n",
       "    <tr>\n",
       "      <th>3</th>\n",
       "      <td>1.635386e+09</td>\n",
       "      <td>37.875827</td>\n",
       "      <td>-122.258828</td>\n",
       "      <td>3.0</td>\n",
       "      <td>36.2</td>\n",
       "    </tr>\n",
       "    <tr>\n",
       "      <th>4</th>\n",
       "      <td>1.635386e+09</td>\n",
       "      <td>37.875825</td>\n",
       "      <td>-122.258833</td>\n",
       "      <td>3.0</td>\n",
       "      <td>34.2</td>\n",
       "    </tr>\n",
       "    <tr>\n",
       "      <th>...</th>\n",
       "      <td>...</td>\n",
       "      <td>...</td>\n",
       "      <td>...</td>\n",
       "      <td>...</td>\n",
       "      <td>...</td>\n",
       "    </tr>\n",
       "    <tr>\n",
       "      <th>294</th>\n",
       "      <td>1.637192e+09</td>\n",
       "      <td>37.869672</td>\n",
       "      <td>-122.259817</td>\n",
       "      <td>5.0</td>\n",
       "      <td>29.0</td>\n",
       "    </tr>\n",
       "    <tr>\n",
       "      <th>295</th>\n",
       "      <td>1.637192e+09</td>\n",
       "      <td>37.869697</td>\n",
       "      <td>-122.259687</td>\n",
       "      <td>5.0</td>\n",
       "      <td>23.4</td>\n",
       "    </tr>\n",
       "    <tr>\n",
       "      <th>296</th>\n",
       "      <td>1.637192e+09</td>\n",
       "      <td>37.869823</td>\n",
       "      <td>-122.259590</td>\n",
       "      <td>5.0</td>\n",
       "      <td>29.8</td>\n",
       "    </tr>\n",
       "    <tr>\n",
       "      <th>297</th>\n",
       "      <td>1.637192e+09</td>\n",
       "      <td>37.869760</td>\n",
       "      <td>-122.259647</td>\n",
       "      <td>4.0</td>\n",
       "      <td>28.4</td>\n",
       "    </tr>\n",
       "    <tr>\n",
       "      <th>298</th>\n",
       "      <td>1.637192e+09</td>\n",
       "      <td>37.869762</td>\n",
       "      <td>-122.259678</td>\n",
       "      <td>4.0</td>\n",
       "      <td>26.8</td>\n",
       "    </tr>\n",
       "  </tbody>\n",
       "</table>\n",
       "<p>299 rows × 5 columns</p>\n",
       "</div>"
      ],
      "text/plain": [
       "       Epoch time   Latitude   Longitude  Air Quality PM 2.5 (ug/m3)  \\\n",
       "0    1.635386e+09   0.000000    0.000000                         2.0   \n",
       "1    1.635386e+09  37.875835 -122.258825                         3.0   \n",
       "2    1.635386e+09  37.875832 -122.258825                         3.0   \n",
       "3    1.635386e+09  37.875827 -122.258828                         3.0   \n",
       "4    1.635386e+09  37.875825 -122.258833                         3.0   \n",
       "..            ...        ...         ...                         ...   \n",
       "294  1.637192e+09  37.869672 -122.259817                         5.0   \n",
       "295  1.637192e+09  37.869697 -122.259687                         5.0   \n",
       "296  1.637192e+09  37.869823 -122.259590                         5.0   \n",
       "297  1.637192e+09  37.869760 -122.259647                         4.0   \n",
       "298  1.637192e+09  37.869762 -122.259678                         4.0   \n",
       "\n",
       "     Radiation (cps)  \n",
       "0               37.6  \n",
       "1               33.4  \n",
       "2               29.2  \n",
       "3               36.2  \n",
       "4               34.2  \n",
       "..               ...  \n",
       "294             29.0  \n",
       "295             23.4  \n",
       "296             29.8  \n",
       "297             28.4  \n",
       "298             26.8  \n",
       "\n",
       "[299 rows x 5 columns]"
      ]
     },
     "execution_count": 59,
     "metadata": {},
     "output_type": "execute_result"
    }
   ],
   "source": [
    "Hunter"
   ]
  },
  {
   "cell_type": "code",
   "execution_count": 60,
   "id": "9d0ef6af",
   "metadata": {
    "scrolled": false
   },
   "outputs": [
    {
     "data": {
      "text/html": [
       "<div>\n",
       "<style scoped>\n",
       "    .dataframe tbody tr th:only-of-type {\n",
       "        vertical-align: middle;\n",
       "    }\n",
       "\n",
       "    .dataframe tbody tr th {\n",
       "        vertical-align: top;\n",
       "    }\n",
       "\n",
       "    .dataframe thead th {\n",
       "        text-align: right;\n",
       "    }\n",
       "</style>\n",
       "<table border=\"1\" class=\"dataframe\">\n",
       "  <thead>\n",
       "    <tr style=\"text-align: right;\">\n",
       "      <th></th>\n",
       "      <th>Epoch time</th>\n",
       "      <th>Latitude</th>\n",
       "      <th>Longitude</th>\n",
       "      <th>Air Quality PM 2.5 (ug/m3)</th>\n",
       "      <th>Radiation (cps)</th>\n",
       "    </tr>\n",
       "  </thead>\n",
       "  <tbody>\n",
       "    <tr>\n",
       "      <th>0</th>\n",
       "      <td>1.637188e+09</td>\n",
       "      <td>37.875965</td>\n",
       "      <td>-122.260035</td>\n",
       "      <td>0.0</td>\n",
       "      <td>34.0</td>\n",
       "    </tr>\n",
       "    <tr>\n",
       "      <th>1</th>\n",
       "      <td>1.637188e+09</td>\n",
       "      <td>37.876008</td>\n",
       "      <td>-122.259928</td>\n",
       "      <td>0.0</td>\n",
       "      <td>28.8</td>\n",
       "    </tr>\n",
       "    <tr>\n",
       "      <th>2</th>\n",
       "      <td>1.637188e+09</td>\n",
       "      <td>37.876018</td>\n",
       "      <td>-122.259782</td>\n",
       "      <td>0.0</td>\n",
       "      <td>27.6</td>\n",
       "    </tr>\n",
       "    <tr>\n",
       "      <th>3</th>\n",
       "      <td>1.637188e+09</td>\n",
       "      <td>37.876007</td>\n",
       "      <td>-122.259655</td>\n",
       "      <td>0.0</td>\n",
       "      <td>28.6</td>\n",
       "    </tr>\n",
       "    <tr>\n",
       "      <th>4</th>\n",
       "      <td>1.637188e+09</td>\n",
       "      <td>37.876018</td>\n",
       "      <td>-122.259588</td>\n",
       "      <td>0.0</td>\n",
       "      <td>28.8</td>\n",
       "    </tr>\n",
       "    <tr>\n",
       "      <th>...</th>\n",
       "      <td>...</td>\n",
       "      <td>...</td>\n",
       "      <td>...</td>\n",
       "      <td>...</td>\n",
       "      <td>...</td>\n",
       "    </tr>\n",
       "    <tr>\n",
       "      <th>294</th>\n",
       "      <td>1.637192e+09</td>\n",
       "      <td>37.869400</td>\n",
       "      <td>-122.260242</td>\n",
       "      <td>5.0</td>\n",
       "      <td>25.4</td>\n",
       "    </tr>\n",
       "    <tr>\n",
       "      <th>295</th>\n",
       "      <td>1.637192e+09</td>\n",
       "      <td>37.869402</td>\n",
       "      <td>-122.260237</td>\n",
       "      <td>5.0</td>\n",
       "      <td>29.0</td>\n",
       "    </tr>\n",
       "    <tr>\n",
       "      <th>296</th>\n",
       "      <td>1.637192e+09</td>\n",
       "      <td>37.869407</td>\n",
       "      <td>-122.260230</td>\n",
       "      <td>5.0</td>\n",
       "      <td>26.8</td>\n",
       "    </tr>\n",
       "    <tr>\n",
       "      <th>297</th>\n",
       "      <td>1.637192e+09</td>\n",
       "      <td>37.869402</td>\n",
       "      <td>-122.260233</td>\n",
       "      <td>5.0</td>\n",
       "      <td>26.2</td>\n",
       "    </tr>\n",
       "    <tr>\n",
       "      <th>298</th>\n",
       "      <td>1.637192e+09</td>\n",
       "      <td>37.869425</td>\n",
       "      <td>-122.260197</td>\n",
       "      <td>5.0</td>\n",
       "      <td>22.8</td>\n",
       "    </tr>\n",
       "  </tbody>\n",
       "</table>\n",
       "<p>299 rows × 5 columns</p>\n",
       "</div>"
      ],
      "text/plain": [
       "       Epoch time   Latitude   Longitude  Air Quality PM 2.5 (ug/m3)  \\\n",
       "0    1.637188e+09  37.875965 -122.260035                         0.0   \n",
       "1    1.637188e+09  37.876008 -122.259928                         0.0   \n",
       "2    1.637188e+09  37.876018 -122.259782                         0.0   \n",
       "3    1.637188e+09  37.876007 -122.259655                         0.0   \n",
       "4    1.637188e+09  37.876018 -122.259588                         0.0   \n",
       "..            ...        ...         ...                         ...   \n",
       "294  1.637192e+09  37.869400 -122.260242                         5.0   \n",
       "295  1.637192e+09  37.869402 -122.260237                         5.0   \n",
       "296  1.637192e+09  37.869407 -122.260230                         5.0   \n",
       "297  1.637192e+09  37.869402 -122.260233                         5.0   \n",
       "298  1.637192e+09  37.869425 -122.260197                         5.0   \n",
       "\n",
       "     Radiation (cps)  \n",
       "0               34.0  \n",
       "1               28.8  \n",
       "2               27.6  \n",
       "3               28.6  \n",
       "4               28.8  \n",
       "..               ...  \n",
       "294             25.4  \n",
       "295             29.0  \n",
       "296             26.8  \n",
       "297             26.2  \n",
       "298             22.8  \n",
       "\n",
       "[299 rows x 5 columns]"
      ]
     },
     "execution_count": 60,
     "metadata": {},
     "output_type": "execute_result"
    }
   ],
   "source": [
    "Hayden"
   ]
  },
  {
   "cell_type": "code",
   "execution_count": 61,
   "id": "00eb0236",
   "metadata": {
    "scrolled": true
   },
   "outputs": [
    {
     "data": {
      "image/png": "[encoded data removed]",
      "text/plain": [
       "<Figure size 432x288 with 1 Axes>"
      ]
     },
     "metadata": {
      "needs_background": "light"
     },
     "output_type": "display_data"
    }
   ],
   "source": [
    "plt.plot(Hunter[\"Radiation (cps)\"])\n",
    "plt.plot(Hayden[\"Radiation (cps)\"])\n",
    "plt.ylabel('Counts per Second')\n",
    "plt.title(\"CPS vs Time\")\n",
    "plt.show()"
   ]
  },
  {
   "cell_type": "code",
   "execution_count": 73,
   "id": "d4e90bd8",
   "metadata": {},
   "outputs": [
    {
     "name": "stdout",
     "output_type": "stream",
     "text": [
      "45\n"
     ]
    },
    {
     "data": {
      "image/png": "[encoded data removed]",
      "text/plain": [
       "<Figure size 432x288 with 1 Axes>"
      ]
     },
     "metadata": {
      "needs_background": "light"
     },
     "output_type": "display_data"
    }
   ],
   "source": [
    "nbins = np.max(Hunter[\"Radiation (cps)\"]) - np.min(Hunter[\"Radiation (cps)\"])\n",
    "nbins = int(nbins*1.5)\n",
    "print(nbins)\n",
    "plt.hist(Hunter[\"Radiation (cps)\"],bins=nbins)\n",
    "plt.ylabel('Frequency')\n",
    "plt.xlabel('Counts Per Second')\n",
    "plt.show()"
   ]
  },
  {
   "cell_type": "code",
   "execution_count": 72,
   "id": "42853ea6",
   "metadata": {},
   "outputs": [
    {
     "name": "stdout",
     "output_type": "stream",
     "text": [
      "35\n"
     ]
    },
    {
     "data": {
      "image/png": "[encoded data removed]",
      "text/plain": [
       "<Figure size 432x288 with 1 Axes>"
      ]
     },
     "metadata": {
      "needs_background": "light"
     },
     "output_type": "display_data"
    }
   ],
   "source": [
    "nbins = np.max(Hayden[\"Radiation (cps)\"]) - np.min(Hayden[\"Radiation (cps)\"])\n",
    "nbins = int(nbins*1.5)\n",
    "print(nbins)\n",
    "plt.hist(Hayden[\"Radiation (cps)\"],bins=nbins)\n",
    "plt.ylabel('Frequency')\n",
    "plt.xlabel('Counts Per Second')\n",
    "plt.show()"
   ]
  },
  {
   "cell_type": "code",
   "execution_count": 80,
   "id": "57418156",
   "metadata": {},
   "outputs": [
    {
     "name": "stdout",
     "output_type": "stream",
     "text": [
      "29.43879598662204 Hayden Data Mean\n",
      "Hayden std. dev. =  4.940918484799028\n",
      "Hayden Statistical Count Sigma 5.42575303406099\n",
      "Hayden Centrial Limit Theorem 0.31377939967586027\n",
      "29.444147157190613 Hunter Data Mean\n",
      "Hunter std. dev. =  6.103668850497932\n",
      "Hunter Statistical Count Sigma 5.4262461386478416\n",
      "Hunter Centrial Limit Theorem 0.31380791665042\n"
     ]
    }
   ],
   "source": [
    "a = np.mean(Hayden[\"Radiation (cps)\"])\n",
    "print(a, \"Hayden Data Mean\")\n",
    "print(\"Hayden std. dev. = \",np.std(Hayden[\"Radiation (cps)\"]))\n",
    "print(\"Hayden Statistical Count Sigma\", math.sqrt(a))\n",
    "print(\"Hayden Centrial Limit Theorem\", (math.sqrt(a)/math.sqrt(299)))\n",
    "b = np.mean(Hunter[\"Radiation (cps)\"])\n",
    "print(b, \"Hunter Data Mean\")\n",
    "print(\"Hunter std. dev. = \",np.std(Hunter[\"Radiation (cps)\"]))\n",
    "print(\"Hunter Statistical Count Sigma\", math.sqrt(b))\n",
    "print(\"Hunter Centrial Limit Theorem\", (math.sqrt(b)/math.sqrt(299)))"
   ]
  },
  {
   "cell_type": "code",
   "execution_count": null,
   "id": "79a1428f",
   "metadata": {},
   "outputs": [],
   "source": []
  }
 ],
 "metadata": {
  "kernelspec": {
   "display_name": "Python 3",
   "language": "python",
   "name": "python3"
  },
  "language_info": {
   "codemirror_mode": {
    "name": "ipython",
    "version": 3
   },
   "file_extension": ".py",
   "mimetype": "text/x-python",
   "name": "python",
   "nbconvert_exporter": "python",
   "pygments_lexer": "ipython3",
   "version": "3.8.8"
  }
 },
 "nbformat": 4,
 "nbformat_minor": 5
}
